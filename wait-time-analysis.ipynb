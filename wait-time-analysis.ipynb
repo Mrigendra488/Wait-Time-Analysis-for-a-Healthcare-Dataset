{
 "cells": [
  {
   "cell_type": "code",
   "execution_count": 1,
   "id": "b7ea764e",
   "metadata": {
    "_cell_guid": "b1076dfc-b9ad-4769-8c92-a6c4dae69d19",
    "_uuid": "8f2839f25d086af736a60e9eeb907d3b93b6e0e5",
    "execution": {
     "iopub.execute_input": "2025-07-11T09:38:23.558069Z",
     "iopub.status.busy": "2025-07-11T09:38:23.557693Z",
     "iopub.status.idle": "2025-07-11T09:38:25.349174Z",
     "shell.execute_reply": "2025-07-11T09:38:25.348312Z"
    },
    "papermill": {
     "duration": 1.798666,
     "end_time": "2025-07-11T09:38:25.350560",
     "exception": false,
     "start_time": "2025-07-11T09:38:23.551894",
     "status": "completed"
    },
    "tags": []
   },
   "outputs": [
    {
     "name": "stdout",
     "output_type": "stream",
     "text": [
      "/kaggle/input/healthcare-appointment-power-bi-project/Appointment Scheduling Cleaned Data.csv\n"
     ]
    }
   ],
   "source": [
    "# This Python 3 environment comes with many helpful analytics libraries installed\n",
    "# It is defined by the kaggle/python Docker image: https://github.com/kaggle/docker-python\n",
    "# For example, here's several helpful packages to load\n",
    "\n",
    "import numpy as np # linear algebra\n",
    "import pandas as pd # data processing, CSV file I/O (e.g. pd.read_csv)\n",
    "\n",
    "# Input data files are available in the read-only \"../input/\" directory\n",
    "# For example, running this (by clicking run or pressing Shift+Enter) will list all files under the input directory\n",
    "\n",
    "import os\n",
    "for dirname, _, filenames in os.walk('/kaggle/input'):\n",
    "    for filename in filenames:\n",
    "        print(os.path.join(dirname, filename))\n",
    "\n",
    "# You can write up to 20GB to the current directory (/kaggle/working/) that gets preserved as output when you create a version using \"Save & Run All\" \n",
    "# You can also write temporary files to /kaggle/temp/, but they won't be saved outside of the current session"
   ]
  },
  {
   "cell_type": "code",
   "execution_count": 2,
   "id": "de61eb11",
   "metadata": {
    "execution": {
     "iopub.execute_input": "2025-07-11T09:38:25.359845Z",
     "iopub.status.busy": "2025-07-11T09:38:25.359427Z",
     "iopub.status.idle": "2025-07-11T09:38:25.397035Z",
     "shell.execute_reply": "2025-07-11T09:38:25.396260Z"
    },
    "papermill": {
     "duration": 0.043759,
     "end_time": "2025-07-11T09:38:25.398491",
     "exception": false,
     "start_time": "2025-07-11T09:38:25.354732",
     "status": "completed"
    },
    "tags": []
   },
   "outputs": [
    {
     "data": {
      "text/html": [
       "<div>\n",
       "<style scoped>\n",
       "    .dataframe tbody tr th:only-of-type {\n",
       "        vertical-align: middle;\n",
       "    }\n",
       "\n",
       "    .dataframe tbody tr th {\n",
       "        vertical-align: top;\n",
       "    }\n",
       "\n",
       "    .dataframe thead th {\n",
       "        text-align: right;\n",
       "    }\n",
       "</style>\n",
       "<table border=\"1\" class=\"dataframe\">\n",
       "  <thead>\n",
       "    <tr style=\"text-align: right;\">\n",
       "      <th></th>\n",
       "      <th>Requesting date</th>\n",
       "      <th>Appointment date</th>\n",
       "      <th>Client ID</th>\n",
       "      <th>Provider Role</th>\n",
       "      <th>First Name</th>\n",
       "      <th>Last Name</th>\n",
       "      <th>Full Name</th>\n",
       "      <th>Waiting Time</th>\n",
       "    </tr>\n",
       "  </thead>\n",
       "  <tbody>\n",
       "    <tr>\n",
       "      <th>0</th>\n",
       "      <td>9/20/23 12:18 PM</td>\n",
       "      <td>9/21/23 12:45 PM</td>\n",
       "      <td>1</td>\n",
       "      <td>Nurse</td>\n",
       "      <td>Aayan</td>\n",
       "      <td>Johnson</td>\n",
       "      <td>Aayan Johnson</td>\n",
       "      <td>31 days, 0 hours</td>\n",
       "    </tr>\n",
       "    <tr>\n",
       "      <th>1</th>\n",
       "      <td>9/20/23 12:19 PM</td>\n",
       "      <td>9/29/23 10:47 AM</td>\n",
       "      <td>2</td>\n",
       "      <td>Nurse</td>\n",
       "      <td>Minnie</td>\n",
       "      <td>Pratt</td>\n",
       "      <td>Minnie Pratt</td>\n",
       "      <td>7 days, 22 hours</td>\n",
       "    </tr>\n",
       "    <tr>\n",
       "      <th>2</th>\n",
       "      <td>9/20/23 2:56 PM</td>\n",
       "      <td>10/23/23 11:50 AM</td>\n",
       "      <td>3</td>\n",
       "      <td>Nurse</td>\n",
       "      <td>Bianca</td>\n",
       "      <td>English</td>\n",
       "      <td>Bianca English</td>\n",
       "      <td>31 days, 20 hours</td>\n",
       "    </tr>\n",
       "    <tr>\n",
       "      <th>3</th>\n",
       "      <td>9/20/23 2:56 PM</td>\n",
       "      <td>10/16/23 3:04 PM</td>\n",
       "      <td>4</td>\n",
       "      <td>Nurse</td>\n",
       "      <td>Rosalind</td>\n",
       "      <td>Love</td>\n",
       "      <td>Rosalind Love</td>\n",
       "      <td>25 days, 0 hours</td>\n",
       "    </tr>\n",
       "    <tr>\n",
       "      <th>4</th>\n",
       "      <td>9/20/23 2:56 PM</td>\n",
       "      <td>10/16/23 3:04 PM</td>\n",
       "      <td>5</td>\n",
       "      <td>Nurse</td>\n",
       "      <td>Zaara</td>\n",
       "      <td>Lynch</td>\n",
       "      <td>Zaara Lynch</td>\n",
       "      <td>25 days, 0 hours</td>\n",
       "    </tr>\n",
       "  </tbody>\n",
       "</table>\n",
       "</div>"
      ],
      "text/plain": [
       "    Requesting date   Appointment date Client ID Provider Role First Name  \\\n",
       "0  9/20/23 12:18 PM   9/21/23 12:45 PM         1         Nurse      Aayan   \n",
       "1  9/20/23 12:19 PM   9/29/23 10:47 AM         2         Nurse     Minnie   \n",
       "2   9/20/23 2:56 PM  10/23/23 11:50 AM         3         Nurse     Bianca   \n",
       "3   9/20/23 2:56 PM   10/16/23 3:04 PM         4         Nurse   Rosalind   \n",
       "4   9/20/23 2:56 PM   10/16/23 3:04 PM         5         Nurse      Zaara   \n",
       "\n",
       "  Last Name       Full Name       Waiting Time  \n",
       "0   Johnson   Aayan Johnson   31 days, 0 hours  \n",
       "1     Pratt    Minnie Pratt   7 days, 22 hours  \n",
       "2   English  Bianca English  31 days, 20 hours  \n",
       "3      Love   Rosalind Love   25 days, 0 hours  \n",
       "4     Lynch     Zaara Lynch   25 days, 0 hours  "
      ]
     },
     "execution_count": 2,
     "metadata": {},
     "output_type": "execute_result"
    }
   ],
   "source": [
    "import pandas as pd\n",
    "\n",
    "df=pd.read_csv(\"/kaggle/input/healthcare-appointment-power-bi-project/Appointment Scheduling Cleaned Data.csv\")\n",
    "\n",
    "df.head()"
   ]
  },
  {
   "cell_type": "markdown",
   "id": "7ad3d86b",
   "metadata": {
    "papermill": {
     "duration": 0.003727,
     "end_time": "2025-07-11T09:38:25.406501",
     "exception": false,
     "start_time": "2025-07-11T09:38:25.402774",
     "status": "completed"
    },
    "tags": []
   },
   "source": [
    "**Objective -- Analyze how waiting times impact follow-up appointment frequency and provider workload**\n"
   ]
  },
  {
   "cell_type": "code",
   "execution_count": 3,
   "id": "deea5231",
   "metadata": {
    "execution": {
     "iopub.execute_input": "2025-07-11T09:38:25.415903Z",
     "iopub.status.busy": "2025-07-11T09:38:25.415573Z",
     "iopub.status.idle": "2025-07-11T09:38:25.442151Z",
     "shell.execute_reply": "2025-07-11T09:38:25.441279Z"
    },
    "papermill": {
     "duration": 0.03307,
     "end_time": "2025-07-11T09:38:25.443632",
     "exception": false,
     "start_time": "2025-07-11T09:38:25.410562",
     "status": "completed"
    },
    "tags": []
   },
   "outputs": [
    {
     "name": "stdout",
     "output_type": "stream",
     "text": [
      "        Waiting Time  Waiting Days\n",
      "0   31 days, 0 hours          31.0\n",
      "1   7 days, 22 hours           7.0\n",
      "2  31 days, 20 hours          31.0\n",
      "3   25 days, 0 hours          25.0\n",
      "4   25 days, 0 hours          25.0\n"
     ]
    },
    {
     "data": {
      "text/html": [
       "<div>\n",
       "<style scoped>\n",
       "    .dataframe tbody tr th:only-of-type {\n",
       "        vertical-align: middle;\n",
       "    }\n",
       "\n",
       "    .dataframe tbody tr th {\n",
       "        vertical-align: top;\n",
       "    }\n",
       "\n",
       "    .dataframe thead th {\n",
       "        text-align: right;\n",
       "    }\n",
       "</style>\n",
       "<table border=\"1\" class=\"dataframe\">\n",
       "  <thead>\n",
       "    <tr style=\"text-align: right;\">\n",
       "      <th></th>\n",
       "      <th>Requesting date</th>\n",
       "      <th>Appointment date</th>\n",
       "      <th>Client ID</th>\n",
       "      <th>Provider Role</th>\n",
       "      <th>First Name</th>\n",
       "      <th>Last Name</th>\n",
       "      <th>Full Name</th>\n",
       "      <th>Waiting Time</th>\n",
       "      <th>Waiting Days</th>\n",
       "    </tr>\n",
       "  </thead>\n",
       "  <tbody>\n",
       "    <tr>\n",
       "      <th>0</th>\n",
       "      <td>9/20/23 12:18 PM</td>\n",
       "      <td>9/21/23 12:45 PM</td>\n",
       "      <td>1</td>\n",
       "      <td>Nurse</td>\n",
       "      <td>Aayan</td>\n",
       "      <td>Johnson</td>\n",
       "      <td>Aayan Johnson</td>\n",
       "      <td>31 days, 0 hours</td>\n",
       "      <td>31.0</td>\n",
       "    </tr>\n",
       "    <tr>\n",
       "      <th>1</th>\n",
       "      <td>9/20/23 12:19 PM</td>\n",
       "      <td>9/29/23 10:47 AM</td>\n",
       "      <td>2</td>\n",
       "      <td>Nurse</td>\n",
       "      <td>Minnie</td>\n",
       "      <td>Pratt</td>\n",
       "      <td>Minnie Pratt</td>\n",
       "      <td>7 days, 22 hours</td>\n",
       "      <td>7.0</td>\n",
       "    </tr>\n",
       "    <tr>\n",
       "      <th>2</th>\n",
       "      <td>9/20/23 2:56 PM</td>\n",
       "      <td>10/23/23 11:50 AM</td>\n",
       "      <td>3</td>\n",
       "      <td>Nurse</td>\n",
       "      <td>Bianca</td>\n",
       "      <td>English</td>\n",
       "      <td>Bianca English</td>\n",
       "      <td>31 days, 20 hours</td>\n",
       "      <td>31.0</td>\n",
       "    </tr>\n",
       "    <tr>\n",
       "      <th>3</th>\n",
       "      <td>9/20/23 2:56 PM</td>\n",
       "      <td>10/16/23 3:04 PM</td>\n",
       "      <td>4</td>\n",
       "      <td>Nurse</td>\n",
       "      <td>Rosalind</td>\n",
       "      <td>Love</td>\n",
       "      <td>Rosalind Love</td>\n",
       "      <td>25 days, 0 hours</td>\n",
       "      <td>25.0</td>\n",
       "    </tr>\n",
       "    <tr>\n",
       "      <th>4</th>\n",
       "      <td>9/20/23 2:56 PM</td>\n",
       "      <td>10/16/23 3:04 PM</td>\n",
       "      <td>5</td>\n",
       "      <td>Nurse</td>\n",
       "      <td>Zaara</td>\n",
       "      <td>Lynch</td>\n",
       "      <td>Zaara Lynch</td>\n",
       "      <td>25 days, 0 hours</td>\n",
       "      <td>25.0</td>\n",
       "    </tr>\n",
       "  </tbody>\n",
       "</table>\n",
       "</div>"
      ],
      "text/plain": [
       "    Requesting date   Appointment date Client ID Provider Role First Name  \\\n",
       "0  9/20/23 12:18 PM   9/21/23 12:45 PM         1         Nurse      Aayan   \n",
       "1  9/20/23 12:19 PM   9/29/23 10:47 AM         2         Nurse     Minnie   \n",
       "2   9/20/23 2:56 PM  10/23/23 11:50 AM         3         Nurse     Bianca   \n",
       "3   9/20/23 2:56 PM   10/16/23 3:04 PM         4         Nurse   Rosalind   \n",
       "4   9/20/23 2:56 PM   10/16/23 3:04 PM         5         Nurse      Zaara   \n",
       "\n",
       "  Last Name       Full Name       Waiting Time  Waiting Days  \n",
       "0   Johnson   Aayan Johnson   31 days, 0 hours          31.0  \n",
       "1     Pratt    Minnie Pratt   7 days, 22 hours           7.0  \n",
       "2   English  Bianca English  31 days, 20 hours          31.0  \n",
       "3      Love   Rosalind Love   25 days, 0 hours          25.0  \n",
       "4     Lynch     Zaara Lynch   25 days, 0 hours          25.0  "
      ]
     },
     "execution_count": 3,
     "metadata": {},
     "output_type": "execute_result"
    }
   ],
   "source": [
    "# Extract days form the Waiting time Column\n",
    "\n",
    "df['Waiting Days']= df['Waiting Time'].str.split('days').str[0].astype(float)\n",
    "\n",
    "print(df[['Waiting Time','Waiting Days']].head())\n",
    "\n",
    "df.head()\n"
   ]
  },
  {
   "cell_type": "code",
   "execution_count": 4,
   "id": "e8f4be75",
   "metadata": {
    "execution": {
     "iopub.execute_input": "2025-07-11T09:38:25.453580Z",
     "iopub.status.busy": "2025-07-11T09:38:25.453246Z",
     "iopub.status.idle": "2025-07-11T09:38:25.480849Z",
     "shell.execute_reply": "2025-07-11T09:38:25.480099Z"
    },
    "papermill": {
     "duration": 0.034187,
     "end_time": "2025-07-11T09:38:25.482228",
     "exception": false,
     "start_time": "2025-07-11T09:38:25.448041",
     "status": "completed"
    },
    "tags": []
   },
   "outputs": [
    {
     "name": "stdout",
     "output_type": "stream",
     "text": [
      "<class 'pandas.core.frame.DataFrame'>\n",
      "RangeIndex: 99 entries, 0 to 98\n",
      "Data columns (total 9 columns):\n",
      " #   Column            Non-Null Count  Dtype  \n",
      "---  ------            --------------  -----  \n",
      " 0   Requesting date   99 non-null     object \n",
      " 1   Appointment date  99 non-null     object \n",
      " 2   Client ID         99 non-null     object \n",
      " 3   Provider Role     99 non-null     object \n",
      " 4   First Name        99 non-null     object \n",
      " 5   Last Name         99 non-null     object \n",
      " 6   Full Name         99 non-null     object \n",
      " 7   Waiting Time      99 non-null     object \n",
      " 8   Waiting Days      99 non-null     float64\n",
      "dtypes: float64(1), object(8)\n",
      "memory usage: 7.1+ KB\n"
     ]
    },
    {
     "data": {
      "text/html": [
       "<div>\n",
       "<style scoped>\n",
       "    .dataframe tbody tr th:only-of-type {\n",
       "        vertical-align: middle;\n",
       "    }\n",
       "\n",
       "    .dataframe tbody tr th {\n",
       "        vertical-align: top;\n",
       "    }\n",
       "\n",
       "    .dataframe thead th {\n",
       "        text-align: right;\n",
       "    }\n",
       "</style>\n",
       "<table border=\"1\" class=\"dataframe\">\n",
       "  <thead>\n",
       "    <tr style=\"text-align: right;\">\n",
       "      <th></th>\n",
       "      <th>Waiting Days</th>\n",
       "    </tr>\n",
       "  </thead>\n",
       "  <tbody>\n",
       "    <tr>\n",
       "      <th>count</th>\n",
       "      <td>99.000000</td>\n",
       "    </tr>\n",
       "    <tr>\n",
       "      <th>mean</th>\n",
       "      <td>10.040404</td>\n",
       "    </tr>\n",
       "    <tr>\n",
       "      <th>std</th>\n",
       "      <td>9.358963</td>\n",
       "    </tr>\n",
       "    <tr>\n",
       "      <th>min</th>\n",
       "      <td>1.000000</td>\n",
       "    </tr>\n",
       "    <tr>\n",
       "      <th>25%</th>\n",
       "      <td>3.000000</td>\n",
       "    </tr>\n",
       "    <tr>\n",
       "      <th>50%</th>\n",
       "      <td>6.000000</td>\n",
       "    </tr>\n",
       "    <tr>\n",
       "      <th>75%</th>\n",
       "      <td>13.000000</td>\n",
       "    </tr>\n",
       "    <tr>\n",
       "      <th>max</th>\n",
       "      <td>31.000000</td>\n",
       "    </tr>\n",
       "  </tbody>\n",
       "</table>\n",
       "</div>"
      ],
      "text/plain": [
       "       Waiting Days\n",
       "count     99.000000\n",
       "mean      10.040404\n",
       "std        9.358963\n",
       "min        1.000000\n",
       "25%        3.000000\n",
       "50%        6.000000\n",
       "75%       13.000000\n",
       "max       31.000000"
      ]
     },
     "execution_count": 4,
     "metadata": {},
     "output_type": "execute_result"
    }
   ],
   "source": [
    "df.info()\n",
    "df.describe()"
   ]
  },
  {
   "cell_type": "code",
   "execution_count": 5,
   "id": "b6116827",
   "metadata": {
    "execution": {
     "iopub.execute_input": "2025-07-11T09:38:25.492330Z",
     "iopub.status.busy": "2025-07-11T09:38:25.492060Z",
     "iopub.status.idle": "2025-07-11T09:38:25.497603Z",
     "shell.execute_reply": "2025-07-11T09:38:25.496797Z"
    },
    "papermill": {
     "duration": 0.012117,
     "end_time": "2025-07-11T09:38:25.498927",
     "exception": false,
     "start_time": "2025-07-11T09:38:25.486810",
     "status": "completed"
    },
    "tags": []
   },
   "outputs": [
    {
     "data": {
      "text/plain": [
       "array(['Nurse', 'Psychologist', 'MD'], dtype=object)"
      ]
     },
     "execution_count": 5,
     "metadata": {},
     "output_type": "execute_result"
    }
   ],
   "source": [
    "df['Provider Role'].unique()"
   ]
  },
  {
   "cell_type": "markdown",
   "id": "bdeb4f9f",
   "metadata": {
    "papermill": {
     "duration": 0.004306,
     "end_time": "2025-07-11T09:38:25.507978",
     "exception": false,
     "start_time": "2025-07-11T09:38:25.503672",
     "status": "completed"
    },
    "tags": []
   },
   "source": [
    "**Avg wait time by Provider Role**"
   ]
  },
  {
   "cell_type": "code",
   "execution_count": 6,
   "id": "3070222f",
   "metadata": {
    "execution": {
     "iopub.execute_input": "2025-07-11T09:38:25.518960Z",
     "iopub.status.busy": "2025-07-11T09:38:25.518698Z",
     "iopub.status.idle": "2025-07-11T09:38:25.527233Z",
     "shell.execute_reply": "2025-07-11T09:38:25.526346Z"
    },
    "papermill": {
     "duration": 0.016266,
     "end_time": "2025-07-11T09:38:25.528635",
     "exception": false,
     "start_time": "2025-07-11T09:38:25.512369",
     "status": "completed"
    },
    "tags": []
   },
   "outputs": [
    {
     "name": "stdout",
     "output_type": "stream",
     "text": [
      "Average Wait Days by Role :\n",
      " Provider Role\n",
      "MD               9.3\n",
      "Nurse           10.4\n",
      "Psychologist    12.6\n",
      "Name: Waiting Days, dtype: float64\n"
     ]
    }
   ],
   "source": [
    "# Avg wait time by provider role\n",
    "\n",
    "avg_wait_by_role = df.groupby('Provider Role')['Waiting Days'].mean().round(1)\n",
    "\n",
    "print(\"Average Wait Days by Role :\\n\",avg_wait_by_role)"
   ]
  },
  {
   "cell_type": "markdown",
   "id": "6dfb7731",
   "metadata": {
    "papermill": {
     "duration": 0.004397,
     "end_time": "2025-07-11T09:38:25.538132",
     "exception": false,
     "start_time": "2025-07-11T09:38:25.533735",
     "status": "completed"
    },
    "tags": []
   },
   "source": [
    "**Appointment frequency analysis**"
   ]
  },
  {
   "cell_type": "code",
   "execution_count": 7,
   "id": "90d4ff09",
   "metadata": {
    "execution": {
     "iopub.execute_input": "2025-07-11T09:38:25.549366Z",
     "iopub.status.busy": "2025-07-11T09:38:25.548384Z",
     "iopub.status.idle": "2025-07-11T09:38:25.560348Z",
     "shell.execute_reply": "2025-07-11T09:38:25.559359Z"
    },
    "papermill": {
     "duration": 0.019046,
     "end_time": "2025-07-11T09:38:25.561851",
     "exception": false,
     "start_time": "2025-07-11T09:38:25.542805",
     "status": "completed"
    },
    "tags": []
   },
   "outputs": [
    {
     "name": "stdout",
     "output_type": "stream",
     "text": [
      "\n",
      "Patients by appointment frequency:\n",
      "   Client ID  AppointmentCount\n",
      "0          1                 1\n",
      "1         75                 1\n",
      "2         73                 1\n",
      "3         72                 1\n",
      "4         71                 1\n",
      "..       ...               ...\n",
      "94        31                 1\n",
      "95        30                 1\n",
      "96        29                 1\n",
      "97        28                 1\n",
      "98        99                 1\n",
      "\n",
      "[99 rows x 2 columns]\n",
      "count    99.0\n",
      "mean      1.0\n",
      "std       0.0\n",
      "min       1.0\n",
      "25%       1.0\n",
      "50%       1.0\n",
      "75%       1.0\n",
      "max       1.0\n",
      "Name: AppointmentCount, dtype: float64\n"
     ]
    }
   ],
   "source": [
    "# Count Appointment per patient(Client Id)\n",
    "\n",
    "Appointment_freq = df['Client ID'].value_counts().reset_index()\n",
    "Appointment_freq.columns=['Client ID','AppointmentCount']\n",
    "\n",
    "print(\"\\nPatients by appointment frequency:\")\n",
    "print(Appointment_freq)\n",
    "\n",
    "# Summary Stats\n",
    "print(Appointment_freq['AppointmentCount'].describe())"
   ]
  },
  {
   "cell_type": "markdown",
   "id": "0372efa9",
   "metadata": {
    "papermill": {
     "duration": 0.004324,
     "end_time": "2025-07-11T09:38:25.570995",
     "exception": false,
     "start_time": "2025-07-11T09:38:25.566671",
     "status": "completed"
    },
    "tags": []
   },
   "source": [
    "**Busiest Days for Appointment**"
   ]
  },
  {
   "cell_type": "code",
   "execution_count": 8,
   "id": "18af1271",
   "metadata": {
    "execution": {
     "iopub.execute_input": "2025-07-11T09:38:25.581753Z",
     "iopub.status.busy": "2025-07-11T09:38:25.580995Z",
     "iopub.status.idle": "2025-07-11T09:38:25.598961Z",
     "shell.execute_reply": "2025-07-11T09:38:25.598041Z"
    },
    "papermill": {
     "duration": 0.024775,
     "end_time": "2025-07-11T09:38:25.600389",
     "exception": false,
     "start_time": "2025-07-11T09:38:25.575614",
     "status": "completed"
    },
    "tags": []
   },
   "outputs": [
    {
     "name": "stdout",
     "output_type": "stream",
     "text": [
      "\n",
      "Appointments by day:\n",
      " DayOfWeek\n",
      "Monday       23\n",
      "Tuesday      18\n",
      "Wednesday    16\n",
      "Thursday     12\n",
      "Friday       11\n",
      "Saturday     11\n",
      "Sunday        8\n",
      "Name: count, dtype: int64\n"
     ]
    },
    {
     "name": "stderr",
     "output_type": "stream",
     "text": [
      "/tmp/ipykernel_13/6432557.py:2: UserWarning: Could not infer format, so each element will be parsed individually, falling back to `dateutil`. To ensure parsing is consistent and as-expected, please specify a format.\n",
      "  df['AppointmentDay']=pd.to_datetime(df['Appointment date'])\n"
     ]
    }
   ],
   "source": [
    "# Extract day of week from Appointment date\n",
    "df['AppointmentDay']=pd.to_datetime(df['Appointment date'])\n",
    "\n",
    "df['DayOfWeek']=df['AppointmentDay'].dt.day_name()\n",
    "\n",
    "# Count appointments by weekday\n",
    "appointments_by_day = df['DayOfWeek'].value_counts()\n",
    "print(\"\\nAppointments by day:\\n\", appointments_by_day)"
   ]
  },
  {
   "cell_type": "markdown",
   "id": "ba58f625",
   "metadata": {
    "papermill": {
     "duration": 0.004457,
     "end_time": "2025-07-11T09:38:25.609740",
     "exception": false,
     "start_time": "2025-07-11T09:38:25.605283",
     "status": "completed"
    },
    "tags": []
   },
   "source": [
    "**Appointment Distribution by Weekday**"
   ]
  },
  {
   "cell_type": "code",
   "execution_count": 9,
   "id": "7a4df04b",
   "metadata": {
    "execution": {
     "iopub.execute_input": "2025-07-11T09:38:25.620657Z",
     "iopub.status.busy": "2025-07-11T09:38:25.619952Z",
     "iopub.status.idle": "2025-07-11T09:38:25.992336Z",
     "shell.execute_reply": "2025-07-11T09:38:25.991505Z"
    },
    "papermill": {
     "duration": 0.379301,
     "end_time": "2025-07-11T09:38:25.993799",
     "exception": false,
     "start_time": "2025-07-11T09:38:25.614498",
     "status": "completed"
    },
    "tags": []
   },
   "outputs": [
    {
     "data": {
      "image/png": "[encoded data removed]",
      "text/plain": [
       "<Figure size 640x480 with 1 Axes>"
      ]
     },
     "metadata": {},
     "output_type": "display_data"
    }
   ],
   "source": [
    "import matplotlib.pyplot as plt\n",
    "\n",
    "appointments_by_day.plot(kind='bar', color='grey')\n",
    "plt.title(\"Appointments by Day of Week\")\n",
    "plt.ylabel(\"Number of Appointments\")\n",
    "plt.xticks(rotation=45)\n",
    "plt.show()"
   ]
  },
  {
   "cell_type": "markdown",
   "id": "9b81a0b3",
   "metadata": {
    "papermill": {
     "duration": 0.005116,
     "end_time": "2025-07-11T09:38:26.004629",
     "exception": false,
     "start_time": "2025-07-11T09:38:25.999513",
     "status": "completed"
    },
    "tags": []
   },
   "source": [
    "**Scatter Plot: Wait Time vs. Appointment Frequency**"
   ]
  },
  {
   "cell_type": "code",
   "execution_count": 10,
   "id": "a5d6ea3e",
   "metadata": {
    "execution": {
     "iopub.execute_input": "2025-07-11T09:38:26.016722Z",
     "iopub.status.busy": "2025-07-11T09:38:26.016404Z",
     "iopub.status.idle": "2025-07-11T09:38:26.219470Z",
     "shell.execute_reply": "2025-07-11T09:38:26.218643Z"
    },
    "papermill": {
     "duration": 0.210839,
     "end_time": "2025-07-11T09:38:26.220979",
     "exception": false,
     "start_time": "2025-07-11T09:38:26.010140",
     "status": "completed"
    },
    "tags": []
   },
   "outputs": [
    {
     "data": {
      "image/png": "[encoded data removed]",
      "text/plain": [
       "<Figure size 640x480 with 1 Axes>"
      ]
     },
     "metadata": {},
     "output_type": "display_data"
    }
   ],
   "source": [
    "# Merge appointment frequency data\n",
    "df_with_freq = df.merge(Appointment_freq, on='Client ID')\n",
    "\n",
    "plt.scatter(df_with_freq['Waiting Days'], df_with_freq['AppointmentCount'], alpha=0.5)\n",
    "plt.title(\"Wait Time vs. Patient Appointment Frequency\")\n",
    "plt.xlabel(\"Waiting Time (Days)\")\n",
    "plt.ylabel(\"Number of Appointments per Patient\")\n",
    "plt.show()"
   ]
  },
  {
   "cell_type": "markdown",
   "id": "cee5e61f",
   "metadata": {
    "papermill": {
     "duration": 0.005484,
     "end_time": "2025-07-11T09:38:26.232781",
     "exception": false,
     "start_time": "2025-07-11T09:38:26.227297",
     "status": "completed"
    },
    "tags": []
   },
   "source": [
    "**How long do patients typically wait?**"
   ]
  },
  {
   "cell_type": "code",
   "execution_count": 11,
   "id": "88503573",
   "metadata": {
    "execution": {
     "iopub.execute_input": "2025-07-11T09:38:26.245371Z",
     "iopub.status.busy": "2025-07-11T09:38:26.245116Z",
     "iopub.status.idle": "2025-07-11T09:38:26.477024Z",
     "shell.execute_reply": "2025-07-11T09:38:26.476002Z"
    },
    "papermill": {
     "duration": 0.240075,
     "end_time": "2025-07-11T09:38:26.478694",
     "exception": false,
     "start_time": "2025-07-11T09:38:26.238619",
     "status": "completed"
    },
    "tags": []
   },
   "outputs": [
    {
     "data": {
      "image/png": "[encoded data removed]",
      "text/plain": [
       "<Figure size 640x480 with 1 Axes>"
      ]
     },
     "metadata": {},
     "output_type": "display_data"
    }
   ],
   "source": [
    "plt.hist(df['Waiting Days'], bins=20, color='skyblue', edgecolor='black')\n",
    "plt.title(\"How Long Do Patients Wait for Appointments?\")\n",
    "plt.xlabel(\"Waiting Time (Days)\")\n",
    "plt.ylabel(\"Number of Appointments\")\n",
    "plt.show()"
   ]
  },
  {
   "cell_type": "markdown",
   "id": "6235242e",
   "metadata": {
    "papermill": {
     "duration": 0.006522,
     "end_time": "2025-07-11T09:38:26.494507",
     "exception": false,
     "start_time": "2025-07-11T09:38:26.487985",
     "status": "completed"
    },
    "tags": []
   },
   "source": [
    "Business Insight:\n",
    "\n",
    "* \n",
    "Observation: Most appointments occur with a waiting time of fewer than 10 days, particularly peaking around 0-5 days. There’s a noticeable drop beyond 10 days, with a small increase at 30 days.\n",
    "\n",
    "* \n",
    "Insight: The majority of patients are scheduled efficiently within a short waiting period. However, the spike at 30 days suggests specific scheduling patterns or constraints (e.g., recurring appointments).\n",
    "\n",
    "\n",
    "Actionable Recommendations:\n",
    "\n",
    "1. \n",
    "Optimize Scheduling: Ensure availability within 0-10 day ranges to maintain patient satisfaction.\n",
    "\n",
    "2. \n",
    "Address 30-Day Spike: Investigate why appointments cluster at 30 days. If due to routine follow-ups, consider confirming them or offering earlier slots if possible.\n",
    "\n",
    "3. \n",
    "Use Priority Reminders: For appointments over 10 days, use reminder strategies to minimize potential no-shows, focusing efforts on ensuring these appointments are not forgotten or skipped.> "
   ]
  },
  {
   "cell_type": "markdown",
   "id": "ec961d85",
   "metadata": {
    "papermill": {
     "duration": 0.007279,
     "end_time": "2025-07-11T09:38:26.509084",
     "exception": false,
     "start_time": "2025-07-11T09:38:26.501805",
     "status": "completed"
    },
    "tags": []
   },
   "source": [
    "**Which provider roles have the longest waits?**"
   ]
  },
  {
   "cell_type": "code",
   "execution_count": 12,
   "id": "6a372d7a",
   "metadata": {
    "execution": {
     "iopub.execute_input": "2025-07-11T09:38:26.523376Z",
     "iopub.status.busy": "2025-07-11T09:38:26.523101Z",
     "iopub.status.idle": "2025-07-11T09:38:26.655743Z",
     "shell.execute_reply": "2025-07-11T09:38:26.654886Z"
    },
    "papermill": {
     "duration": 0.141599,
     "end_time": "2025-07-11T09:38:26.657186",
     "exception": false,
     "start_time": "2025-07-11T09:38:26.515587",
     "status": "completed"
    },
    "tags": []
   },
   "outputs": [
    {
     "data": {
      "image/png": "[encoded data removed]",
      "text/plain": [
       "<Figure size 640x480 with 1 Axes>"
      ]
     },
     "metadata": {},
     "output_type": "display_data"
    }
   ],
   "source": [
    "# Calculate average waiting time per provider role\n",
    "provider_wait = df.groupby('Provider Role')['Waiting Days'].mean().sort_values()\n",
    "\n",
    "# Plot\n",
    "provider_wait.plot(kind='barh', color='#4d94ff')\n",
    "plt.title(\"Average Wait Time by Provider Role\")\n",
    "plt.xlabel(\"Average Days\")\n",
    "plt.show()"
   ]
  },
  {
   "cell_type": "markdown",
   "id": "bc6a8bde",
   "metadata": {
    "papermill": {
     "duration": 0.006779,
     "end_time": "2025-07-11T09:38:26.670979",
     "exception": false,
     "start_time": "2025-07-11T09:38:26.664200",
     "status": "completed"
    },
    "tags": []
   },
   "source": [
    "Business Insight: Provider Role Wait Times\n",
    "\"Psychologists have the longest average wait time, reaching over 12 days, which may indicate limited availability or high demand for mental health services. Meanwhile, appointments with Medical Doctors (MDs) and nurses average closer to 8-10 days, suggesting more manageable or different demand patterns.\"\n",
    "\n",
    "Actionable Recommendations:\n",
    "\n",
    "1. \n",
    "Expand Psychological Services: Consider increasing the number of psychology appointments available or hiring additional psychologists to meet demand and reduce wait times.\n",
    "\n",
    "2. \n",
    "Resource Allocation: Re-evaluate current scheduling practices to optimize the distribution of appointment slots, potentially freeing up capacity for high-demand services.\n",
    "\n",
    "3. \n",
    "Patient Communication: Implement targeted communication strategies for patients awaiting psychological services to manage expectations and reduce potential no-show rates."
   ]
  },
  {
   "cell_type": "markdown",
   "id": "63d03262",
   "metadata": {
    "papermill": {
     "duration": 0.006549,
     "end_time": "2025-07-11T09:38:26.684339",
     "exception": false,
     "start_time": "2025-07-11T09:38:26.677790",
     "status": "completed"
    },
    "tags": []
   },
   "source": [
    "**Are patients with more appointments willing to wait longer?**"
   ]
  },
  {
   "cell_type": "code",
   "execution_count": 13,
   "id": "f17b7bb8",
   "metadata": {
    "execution": {
     "iopub.execute_input": "2025-07-11T09:38:26.699910Z",
     "iopub.status.busy": "2025-07-11T09:38:26.698672Z",
     "iopub.status.idle": "2025-07-11T09:38:26.870020Z",
     "shell.execute_reply": "2025-07-11T09:38:26.869160Z"
    },
    "papermill": {
     "duration": 0.180553,
     "end_time": "2025-07-11T09:38:26.871584",
     "exception": false,
     "start_time": "2025-07-11T09:38:26.691031",
     "status": "completed"
    },
    "tags": []
   },
   "outputs": [
    {
     "name": "stderr",
     "output_type": "stream",
     "text": [
      "/usr/local/lib/python3.11/dist-packages/numpy/lib/function_base.py:2897: RuntimeWarning: invalid value encountered in divide\n",
      "  c /= stddev[:, None]\n",
      "/usr/local/lib/python3.11/dist-packages/numpy/lib/function_base.py:2898: RuntimeWarning: invalid value encountered in divide\n",
      "  c /= stddev[None, :]\n"
     ]
    },
    {
     "data": {
      "image/png": "[encoded data removed]",
      "text/plain": [
       "<Figure size 640x480 with 1 Axes>"
      ]
     },
     "metadata": {},
     "output_type": "display_data"
    }
   ],
   "source": [
    "# Calculate appointments per patient\n",
    "appointment_counts = df['Client ID'].value_counts()\n",
    "\n",
    "# Merge with original data\n",
    "df['TotalAppointments'] = df['Client ID'].map(appointment_counts)\n",
    "\n",
    "# Scatter plot\n",
    "plt.scatter(df['Waiting Days'], df['TotalAppointments'], alpha=0.3)\n",
    "plt.title(\"Patient Loyalty vs. Wait Time\")\n",
    "plt.xlabel(\"Wait Time (Days)\")\n",
    "plt.ylabel(\"Total Appointments per Patient\")\n",
    "\n",
    "# Add correlation value\n",
    "corr = df['Waiting Days'].corr(df['TotalAppointments'])\n",
    "plt.text(0.95, 0.95, f\"Correlation: {corr:.2f}\", ha='right', va='top', transform=plt.gca().transAxes)\n",
    "plt.show()"
   ]
  }
 ],
 "metadata": {
  "kaggle": {
   "accelerator": "none",
   "dataSources": [
    {
     "datasetId": 5470844,
     "sourceId": 9253037,
     "sourceType": "datasetVersion"
    }
   ],
   "dockerImageVersionId": 31089,
   "isGpuEnabled": false,
   "isInternetEnabled": false,
   "language": "python",
   "sourceType": "notebook"
  },
  "kernelspec": {
   "display_name": "Python 3",
   "language": "python",
   "name": "python3"
  },
  "language_info": {
   "codemirror_mode": {
    "name": "ipython",
    "version": 3
   },
   "file_extension": ".py",
   "mimetype": "text/x-python",
   "name": "python",
   "nbconvert_exporter": "python",
   "pygments_lexer": "ipython3",
   "version": "3.11.13"
  },
  "papermill": {
   "default_parameters": {},
   "duration": 8.488744,
   "end_time": "2025-07-11T09:38:27.398337",
   "environment_variables": {},
   "exception": null,
   "input_path": "__notebook__.ipynb",
   "output_path": "__notebook__.ipynb",
   "parameters": {},
   "start_time": "2025-07-11T09:38:18.909593",
   "version": "2.6.0"
  }
 },
 "nbformat": 4,
 "nbformat_minor": 5
}
